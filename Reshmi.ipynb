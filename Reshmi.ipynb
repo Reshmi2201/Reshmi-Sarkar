{
 "cells": [
  {
   "cell_type": "code",
   "execution_count": 1,
   "metadata": {},
   "outputs": [
    {
     "name": "stdout",
     "output_type": "stream",
     "text": [
      "factorial of 5 is 120\n"
     ]
    }
   ],
   "source": [
    "def factorial(n):\n",
    "    return 1 if (n==1 or n==0) else n*factorial(n-1);\n",
    "\n",
    "num = 5\n",
    "print('factorial of',num,'is',factorial(num))"
   ]
  },
  {
   "cell_type": "code",
   "execution_count": 2,
   "metadata": {},
   "outputs": [
    {
     "name": "stdout",
     "output_type": "stream",
     "text": [
      "factorial of 12 is 479001600\n"
     ]
    }
   ],
   "source": [
    "num = 12\n",
    "print('factorial of',num,'is',factorial(num))"
   ]
  },
  {
   "cell_type": "code",
   "execution_count": 1,
   "metadata": {},
   "outputs": [
    {
     "name": "stdout",
     "output_type": "stream",
     "text": [
      "enter any number: 13\n",
      "13 is a composite number\n"
     ]
    }
   ],
   "source": [
    "number = int(input('enter any number: '))\n",
    "\n",
    "if number > 1:\n",
    "    for i in range(2, number):\n",
    "        if(number % 1) == 0:\n",
    "            print(number,'is a composite number')\n",
    "            break\n",
    "    else:\n",
    "        print(number, 'is a prime number')\n",
    "else:\n",
    "    print(number, 'is neither a prime nor a composite number')"
   ]
  },
  {
   "cell_type": "code",
   "execution_count": 5,
   "metadata": {},
   "outputs": [
    {
     "name": "stdout",
     "output_type": "stream",
     "text": [
      "The string is not a palindrome.\n"
     ]
    }
   ],
   "source": [
    "my_str = 'number'\n",
    "\n",
    "my_str = my_str.casefold()\n",
    "rev_str = reversed(my_str)\n",
    "if list(my_str) == list(rev_str):\n",
    "   print(\"The string is a palindrome.\")\n",
    "else:\n",
    "   print(\"The string is not a palindrome.\")"
   ]
  },
  {
   "cell_type": "code",
   "execution_count": 4,
   "metadata": {},
   "outputs": [
    {
     "name": "stdout",
     "output_type": "stream",
     "text": [
      "characters in Reshmi Sarkar is :\n",
      "{'R': 1, 'e': 1, 's': 1, 'h': 1, 'm': 1, 'i': 1, ' ': 1, 'S': 1, 'a': 2, 'r': 2, 'k': 1}\n"
     ]
    }
   ],
   "source": [
    "test_str = 'Reshmi Sarkar'\n",
    "all_freq = {}\n",
    "for i in test_str:\n",
    "    if i in all_freq:\n",
    "        all_freq[i] += 1\n",
    "    else:\n",
    "        all_freq[i] = 1\n",
    "print('characters in Reshmi Sarkar is :\\n'+ str(all_freq))"
   ]
  },
  {
   "cell_type": "code",
   "execution_count": null,
   "metadata": {},
   "outputs": [],
   "source": []
  }
 ],
 "metadata": {
  "kernelspec": {
   "display_name": "Python 3",
   "language": "python",
   "name": "python3"
  },
  "language_info": {
   "codemirror_mode": {
    "name": "ipython",
    "version": 3
   },
   "file_extension": ".py",
   "mimetype": "text/x-python",
   "name": "python",
   "nbconvert_exporter": "python",
   "pygments_lexer": "ipython3",
   "version": "3.8.5"
  }
 },
 "nbformat": 4,
 "nbformat_minor": 4
}
